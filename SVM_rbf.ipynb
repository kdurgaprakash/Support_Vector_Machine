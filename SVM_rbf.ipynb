{
 "cells": [
  {
   "cell_type": "code",
   "execution_count": 190,
   "id": "2e723386",
   "metadata": {},
   "outputs": [],
   "source": [
    "# Import Dependencies\n",
    "import pandas as pd\n",
    "from sklearn.model_selection import train_test_split\n",
    "\n",
    "from scipy.io import arff\n",
    "from sklearn.preprocessing import LabelEncoder\n",
    "\n",
    "from sklearn.pipeline import make_pipeline\n",
    "from sklearn.preprocessing import StandardScaler\n",
    "\n",
    "from sklearn import svm\n",
    "from sklearn.svm import SVC\n",
    "\n",
    "from sklearn import metrics\n",
    "from sklearn.metrics import f1_score"
   ]
  },
  {
   "cell_type": "code",
   "execution_count": 191,
   "id": "326c879f",
   "metadata": {},
   "outputs": [],
   "source": [
    "#Preprocessing and loading data by filling in empty spaces\n",
    "file = arff.loadarff('chronic_kidney_disease_full.arff')\n",
    "df = pd.DataFrame(file[0])\n",
    "\n",
    "for i in df.columns:\n",
    "        if df[i].dtype !=  'float64':\n",
    "            lab = LabelEncoder()\n",
    "            lab.fit(df[i])\n",
    "            df[i] = lab.transform(df[i])\n",
    "\n",
    "#Fill empty values of dataset\n",
    "df.fillna(method = 'ffill', inplace = True)\n",
    "df.fillna(method = 'bfill', inplace = True)\n",
    "\n",
    "\n",
    "X = df.iloc[:, :-1].values\n",
    "Y = df['class'].values"
   ]
  },
  {
   "cell_type": "code",
   "execution_count": 192,
   "id": "5f2fbd2e",
   "metadata": {},
   "outputs": [],
   "source": [
    "# Dividing the dataset for training and testing such that 20 % is used for testing and 80% is used for training and random_state is set as 33 to shuffle the data\n",
    "x_train, x_test, y_train, y_test = train_test_split(X, Y, test_size=0.2,random_state = 33)"
   ]
  },
  {
   "cell_type": "code",
   "execution_count": 193,
   "id": "afd2c79b",
   "metadata": {},
   "outputs": [
    {
     "name": "stdout",
     "output_type": "stream",
     "text": [
      "[[60. 60.  3. ...  1.  1.  1.]\n",
      " [74. 60.  3. ...  1.  1.  1.]\n",
      " [56. 70.  4. ...  1.  1.  1.]\n",
      " ...\n",
      " [64. 70.  1. ...  1.  1.  1.]\n",
      " [36. 80.  4. ...  1.  1.  1.]\n",
      " [61. 80.  2. ...  2.  2.  2.]]\n",
      "[[34. 90.  2. ...  1.  1.  1.]\n",
      " [70. 60.  5. ...  1.  1.  1.]\n",
      " [70. 80.  3. ...  1.  1.  1.]\n",
      " ...\n",
      " [50. 80.  3. ...  1.  1.  1.]\n",
      " [62. 80.  3. ...  1.  1.  1.]\n",
      " [30. 80.  3. ...  1.  1.  1.]]\n"
     ]
    }
   ],
   "source": [
    "# Printing the training and testing data for reference\n",
    "\n",
    "print(x_train)\n",
    "print(x_test)"
   ]
  },
  {
   "cell_type": "code",
   "execution_count": 194,
   "id": "b63b1f20",
   "metadata": {},
   "outputs": [],
   "source": [
    "# Create a SVM Classifier with rbf kernel and default parameters\n",
    "svm_rbf = make_pipeline(StandardScaler(), SVC())"
   ]
  },
  {
   "cell_type": "code",
   "execution_count": 195,
   "id": "9bbc4a4e",
   "metadata": {},
   "outputs": [
    {
     "data": {
      "text/plain": [
       "Pipeline(steps=[('standardscaler', StandardScaler()), ('svc', SVC())])"
      ]
     },
     "execution_count": 195,
     "metadata": {},
     "output_type": "execute_result"
    }
   ],
   "source": [
    "#Train the model using the training sets\n",
    "svm_rbf.fit(x_train, y_train)"
   ]
  },
  {
   "cell_type": "code",
   "execution_count": 196,
   "id": "2b8a68f5",
   "metadata": {},
   "outputs": [],
   "source": [
    "# Predict the response for test dataset and train dataset\n",
    "\n",
    "y_test_pred = svm_rbf.predict(x_test)\n",
    "y_train_pred = svm_rbf.predict(x_train)\n"
   ]
  },
  {
   "cell_type": "code",
   "execution_count": 197,
   "id": "7ccf0530",
   "metadata": {},
   "outputs": [
    {
     "name": "stdout",
     "output_type": "stream",
     "text": [
      "f-measure of test set: 0.9879518072289156\n",
      "f-measure of train set: 1.0\n"
     ]
    }
   ],
   "source": [
    "# Print F measure of the algorithm's performance on the training and test sets\n",
    "\n",
    "#print(\"Accuracy:\",metrics.accuracy_score(y_test, y_pred))\n",
    "\n",
    "print(\"f-measure of test set:\", f1_score(y_test, y_test_pred))\n",
    "print(\"f-measure of train set:\", f1_score(y_train, y_train_pred))\n"
   ]
  }
 ],
 "metadata": {
  "kernelspec": {
   "display_name": "Python 3",
   "language": "python",
   "name": "python3"
  },
  "language_info": {
   "codemirror_mode": {
    "name": "ipython",
    "version": 3
   },
   "file_extension": ".py",
   "mimetype": "text/x-python",
   "name": "python",
   "nbconvert_exporter": "python",
   "pygments_lexer": "ipython3",
   "version": "3.8.8"
  }
 },
 "nbformat": 4,
 "nbformat_minor": 5
}
